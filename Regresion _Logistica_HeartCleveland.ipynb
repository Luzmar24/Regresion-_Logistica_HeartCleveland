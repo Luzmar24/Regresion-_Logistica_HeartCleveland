{
 "cells": [
  {
   "cell_type": "code",
   "execution_count": 1,
   "id": "da0531b6-6c91-4499-9095-6c56438d5e79",
   "metadata": {},
   "outputs": [],
   "source": [
    "import pandas as pd\n",
    "import numpy as np\n",
    "import seaborn as sns\n",
    "import matplotlib.pyplot as plt\n",
    "\n",
    "\n",
    "from sklearn import metrics\n",
    "from sklearn.model_selection import train_test_split\n",
    "from sklearn.linear_model import LogisticRegression\n",
    "from sklearn.metrics import classification_report, confusion_matrix "
   ]
  },
  {
   "cell_type": "code",
   "execution_count": 36,
   "id": "d3034dff-6f99-4fcc-ac0f-10a6b7c9c5f7",
   "metadata": {},
   "outputs": [],
   "source": [
    "Datos = pd.read_csv('./heart_cleveland_upload.csv')"
   ]
  },
  {
   "cell_type": "code",
   "execution_count": 3,
   "id": "18f311c6-ad4c-432f-9af7-ce0a2b55888f",
   "metadata": {},
   "outputs": [
    {
     "data": {
      "text/html": [
       "<div>\n",
       "<style scoped>\n",
       "    .dataframe tbody tr th:only-of-type {\n",
       "        vertical-align: middle;\n",
       "    }\n",
       "\n",
       "    .dataframe tbody tr th {\n",
       "        vertical-align: top;\n",
       "    }\n",
       "\n",
       "    .dataframe thead th {\n",
       "        text-align: right;\n",
       "    }\n",
       "</style>\n",
       "<table border=\"1\" class=\"dataframe\">\n",
       "  <thead>\n",
       "    <tr style=\"text-align: right;\">\n",
       "      <th></th>\n",
       "      <th>edad</th>\n",
       "      <th>sexo</th>\n",
       "      <th>anginapech</th>\n",
       "      <th>presionartereposo</th>\n",
       "      <th>colesterolsangre</th>\n",
       "      <th>nivelazucsangreayuna</th>\n",
       "      <th>resultaelectroreposo</th>\n",
       "      <th>frecuecardiamaxalcanza</th>\n",
       "      <th>anginainduciejercic</th>\n",
       "      <th>depresegmenSTinduciejerci</th>\n",
       "      <th>pendientesegmeSTejer</th>\n",
       "      <th>numvasosprinci</th>\n",
       "      <th>resultaanalitalasemia</th>\n",
       "      <th>condition</th>\n",
       "    </tr>\n",
       "  </thead>\n",
       "  <tbody>\n",
       "    <tr>\n",
       "      <th>0</th>\n",
       "      <td>69</td>\n",
       "      <td>1</td>\n",
       "      <td>0</td>\n",
       "      <td>160</td>\n",
       "      <td>234</td>\n",
       "      <td>1</td>\n",
       "      <td>2</td>\n",
       "      <td>131</td>\n",
       "      <td>0</td>\n",
       "      <td>0.1</td>\n",
       "      <td>1</td>\n",
       "      <td>1</td>\n",
       "      <td>0</td>\n",
       "      <td>0</td>\n",
       "    </tr>\n",
       "    <tr>\n",
       "      <th>1</th>\n",
       "      <td>69</td>\n",
       "      <td>0</td>\n",
       "      <td>0</td>\n",
       "      <td>140</td>\n",
       "      <td>239</td>\n",
       "      <td>0</td>\n",
       "      <td>0</td>\n",
       "      <td>151</td>\n",
       "      <td>0</td>\n",
       "      <td>1.8</td>\n",
       "      <td>0</td>\n",
       "      <td>2</td>\n",
       "      <td>0</td>\n",
       "      <td>0</td>\n",
       "    </tr>\n",
       "    <tr>\n",
       "      <th>2</th>\n",
       "      <td>66</td>\n",
       "      <td>0</td>\n",
       "      <td>0</td>\n",
       "      <td>150</td>\n",
       "      <td>226</td>\n",
       "      <td>0</td>\n",
       "      <td>0</td>\n",
       "      <td>114</td>\n",
       "      <td>0</td>\n",
       "      <td>2.6</td>\n",
       "      <td>2</td>\n",
       "      <td>0</td>\n",
       "      <td>0</td>\n",
       "      <td>0</td>\n",
       "    </tr>\n",
       "    <tr>\n",
       "      <th>3</th>\n",
       "      <td>65</td>\n",
       "      <td>1</td>\n",
       "      <td>0</td>\n",
       "      <td>138</td>\n",
       "      <td>282</td>\n",
       "      <td>1</td>\n",
       "      <td>2</td>\n",
       "      <td>174</td>\n",
       "      <td>0</td>\n",
       "      <td>1.4</td>\n",
       "      <td>1</td>\n",
       "      <td>1</td>\n",
       "      <td>0</td>\n",
       "      <td>1</td>\n",
       "    </tr>\n",
       "    <tr>\n",
       "      <th>4</th>\n",
       "      <td>64</td>\n",
       "      <td>1</td>\n",
       "      <td>0</td>\n",
       "      <td>110</td>\n",
       "      <td>211</td>\n",
       "      <td>0</td>\n",
       "      <td>2</td>\n",
       "      <td>144</td>\n",
       "      <td>1</td>\n",
       "      <td>1.8</td>\n",
       "      <td>1</td>\n",
       "      <td>0</td>\n",
       "      <td>0</td>\n",
       "      <td>0</td>\n",
       "    </tr>\n",
       "    <tr>\n",
       "      <th>5</th>\n",
       "      <td>64</td>\n",
       "      <td>1</td>\n",
       "      <td>0</td>\n",
       "      <td>170</td>\n",
       "      <td>227</td>\n",
       "      <td>0</td>\n",
       "      <td>2</td>\n",
       "      <td>155</td>\n",
       "      <td>0</td>\n",
       "      <td>0.6</td>\n",
       "      <td>1</td>\n",
       "      <td>0</td>\n",
       "      <td>2</td>\n",
       "      <td>0</td>\n",
       "    </tr>\n",
       "    <tr>\n",
       "      <th>6</th>\n",
       "      <td>63</td>\n",
       "      <td>1</td>\n",
       "      <td>0</td>\n",
       "      <td>145</td>\n",
       "      <td>233</td>\n",
       "      <td>1</td>\n",
       "      <td>2</td>\n",
       "      <td>150</td>\n",
       "      <td>0</td>\n",
       "      <td>2.3</td>\n",
       "      <td>2</td>\n",
       "      <td>0</td>\n",
       "      <td>1</td>\n",
       "      <td>0</td>\n",
       "    </tr>\n",
       "    <tr>\n",
       "      <th>7</th>\n",
       "      <td>61</td>\n",
       "      <td>1</td>\n",
       "      <td>0</td>\n",
       "      <td>134</td>\n",
       "      <td>234</td>\n",
       "      <td>0</td>\n",
       "      <td>0</td>\n",
       "      <td>145</td>\n",
       "      <td>0</td>\n",
       "      <td>2.6</td>\n",
       "      <td>1</td>\n",
       "      <td>2</td>\n",
       "      <td>0</td>\n",
       "      <td>1</td>\n",
       "    </tr>\n",
       "    <tr>\n",
       "      <th>8</th>\n",
       "      <td>60</td>\n",
       "      <td>0</td>\n",
       "      <td>0</td>\n",
       "      <td>150</td>\n",
       "      <td>240</td>\n",
       "      <td>0</td>\n",
       "      <td>0</td>\n",
       "      <td>171</td>\n",
       "      <td>0</td>\n",
       "      <td>0.9</td>\n",
       "      <td>0</td>\n",
       "      <td>0</td>\n",
       "      <td>0</td>\n",
       "      <td>0</td>\n",
       "    </tr>\n",
       "    <tr>\n",
       "      <th>9</th>\n",
       "      <td>59</td>\n",
       "      <td>1</td>\n",
       "      <td>0</td>\n",
       "      <td>178</td>\n",
       "      <td>270</td>\n",
       "      <td>0</td>\n",
       "      <td>2</td>\n",
       "      <td>145</td>\n",
       "      <td>0</td>\n",
       "      <td>4.2</td>\n",
       "      <td>2</td>\n",
       "      <td>0</td>\n",
       "      <td>2</td>\n",
       "      <td>0</td>\n",
       "    </tr>\n",
       "    <tr>\n",
       "      <th>10</th>\n",
       "      <td>59</td>\n",
       "      <td>1</td>\n",
       "      <td>0</td>\n",
       "      <td>170</td>\n",
       "      <td>288</td>\n",
       "      <td>0</td>\n",
       "      <td>2</td>\n",
       "      <td>159</td>\n",
       "      <td>0</td>\n",
       "      <td>0.2</td>\n",
       "      <td>1</td>\n",
       "      <td>0</td>\n",
       "      <td>2</td>\n",
       "      <td>1</td>\n",
       "    </tr>\n",
       "    <tr>\n",
       "      <th>11</th>\n",
       "      <td>59</td>\n",
       "      <td>1</td>\n",
       "      <td>0</td>\n",
       "      <td>160</td>\n",
       "      <td>273</td>\n",
       "      <td>0</td>\n",
       "      <td>2</td>\n",
       "      <td>125</td>\n",
       "      <td>0</td>\n",
       "      <td>0.0</td>\n",
       "      <td>0</td>\n",
       "      <td>0</td>\n",
       "      <td>0</td>\n",
       "      <td>1</td>\n",
       "    </tr>\n",
       "    <tr>\n",
       "      <th>12</th>\n",
       "      <td>59</td>\n",
       "      <td>1</td>\n",
       "      <td>0</td>\n",
       "      <td>134</td>\n",
       "      <td>204</td>\n",
       "      <td>0</td>\n",
       "      <td>0</td>\n",
       "      <td>162</td>\n",
       "      <td>0</td>\n",
       "      <td>0.8</td>\n",
       "      <td>0</td>\n",
       "      <td>2</td>\n",
       "      <td>0</td>\n",
       "      <td>1</td>\n",
       "    </tr>\n",
       "    <tr>\n",
       "      <th>13</th>\n",
       "      <td>58</td>\n",
       "      <td>0</td>\n",
       "      <td>0</td>\n",
       "      <td>150</td>\n",
       "      <td>283</td>\n",
       "      <td>1</td>\n",
       "      <td>2</td>\n",
       "      <td>162</td>\n",
       "      <td>0</td>\n",
       "      <td>1.0</td>\n",
       "      <td>0</td>\n",
       "      <td>0</td>\n",
       "      <td>0</td>\n",
       "      <td>0</td>\n",
       "    </tr>\n",
       "    <tr>\n",
       "      <th>14</th>\n",
       "      <td>56</td>\n",
       "      <td>1</td>\n",
       "      <td>0</td>\n",
       "      <td>120</td>\n",
       "      <td>193</td>\n",
       "      <td>0</td>\n",
       "      <td>2</td>\n",
       "      <td>162</td>\n",
       "      <td>0</td>\n",
       "      <td>1.9</td>\n",
       "      <td>1</td>\n",
       "      <td>0</td>\n",
       "      <td>2</td>\n",
       "      <td>0</td>\n",
       "    </tr>\n",
       "    <tr>\n",
       "      <th>15</th>\n",
       "      <td>52</td>\n",
       "      <td>1</td>\n",
       "      <td>0</td>\n",
       "      <td>118</td>\n",
       "      <td>186</td>\n",
       "      <td>0</td>\n",
       "      <td>2</td>\n",
       "      <td>190</td>\n",
       "      <td>0</td>\n",
       "      <td>0.0</td>\n",
       "      <td>1</td>\n",
       "      <td>0</td>\n",
       "      <td>1</td>\n",
       "      <td>0</td>\n",
       "    </tr>\n",
       "    <tr>\n",
       "      <th>16</th>\n",
       "      <td>52</td>\n",
       "      <td>1</td>\n",
       "      <td>0</td>\n",
       "      <td>152</td>\n",
       "      <td>298</td>\n",
       "      <td>1</td>\n",
       "      <td>0</td>\n",
       "      <td>178</td>\n",
       "      <td>0</td>\n",
       "      <td>1.2</td>\n",
       "      <td>1</td>\n",
       "      <td>0</td>\n",
       "      <td>2</td>\n",
       "      <td>0</td>\n",
       "    </tr>\n",
       "    <tr>\n",
       "      <th>17</th>\n",
       "      <td>51</td>\n",
       "      <td>1</td>\n",
       "      <td>0</td>\n",
       "      <td>125</td>\n",
       "      <td>213</td>\n",
       "      <td>0</td>\n",
       "      <td>2</td>\n",
       "      <td>125</td>\n",
       "      <td>1</td>\n",
       "      <td>1.4</td>\n",
       "      <td>0</td>\n",
       "      <td>1</td>\n",
       "      <td>0</td>\n",
       "      <td>0</td>\n",
       "    </tr>\n",
       "    <tr>\n",
       "      <th>18</th>\n",
       "      <td>45</td>\n",
       "      <td>1</td>\n",
       "      <td>0</td>\n",
       "      <td>110</td>\n",
       "      <td>264</td>\n",
       "      <td>0</td>\n",
       "      <td>0</td>\n",
       "      <td>132</td>\n",
       "      <td>0</td>\n",
       "      <td>1.2</td>\n",
       "      <td>1</td>\n",
       "      <td>0</td>\n",
       "      <td>2</td>\n",
       "      <td>1</td>\n",
       "    </tr>\n",
       "    <tr>\n",
       "      <th>19</th>\n",
       "      <td>42</td>\n",
       "      <td>1</td>\n",
       "      <td>0</td>\n",
       "      <td>148</td>\n",
       "      <td>244</td>\n",
       "      <td>0</td>\n",
       "      <td>2</td>\n",
       "      <td>178</td>\n",
       "      <td>0</td>\n",
       "      <td>0.8</td>\n",
       "      <td>0</td>\n",
       "      <td>2</td>\n",
       "      <td>0</td>\n",
       "      <td>0</td>\n",
       "    </tr>\n",
       "  </tbody>\n",
       "</table>\n",
       "</div>"
      ],
      "text/plain": [
       "    edad  sexo  anginapech  presionartereposo  colesterolsangre  \\\n",
       "0     69     1           0                160               234   \n",
       "1     69     0           0                140               239   \n",
       "2     66     0           0                150               226   \n",
       "3     65     1           0                138               282   \n",
       "4     64     1           0                110               211   \n",
       "5     64     1           0                170               227   \n",
       "6     63     1           0                145               233   \n",
       "7     61     1           0                134               234   \n",
       "8     60     0           0                150               240   \n",
       "9     59     1           0                178               270   \n",
       "10    59     1           0                170               288   \n",
       "11    59     1           0                160               273   \n",
       "12    59     1           0                134               204   \n",
       "13    58     0           0                150               283   \n",
       "14    56     1           0                120               193   \n",
       "15    52     1           0                118               186   \n",
       "16    52     1           0                152               298   \n",
       "17    51     1           0                125               213   \n",
       "18    45     1           0                110               264   \n",
       "19    42     1           0                148               244   \n",
       "\n",
       "    nivelazucsangreayuna  resultaelectroreposo  frecuecardiamaxalcanza  \\\n",
       "0                      1                     2                     131   \n",
       "1                      0                     0                     151   \n",
       "2                      0                     0                     114   \n",
       "3                      1                     2                     174   \n",
       "4                      0                     2                     144   \n",
       "5                      0                     2                     155   \n",
       "6                      1                     2                     150   \n",
       "7                      0                     0                     145   \n",
       "8                      0                     0                     171   \n",
       "9                      0                     2                     145   \n",
       "10                     0                     2                     159   \n",
       "11                     0                     2                     125   \n",
       "12                     0                     0                     162   \n",
       "13                     1                     2                     162   \n",
       "14                     0                     2                     162   \n",
       "15                     0                     2                     190   \n",
       "16                     1                     0                     178   \n",
       "17                     0                     2                     125   \n",
       "18                     0                     0                     132   \n",
       "19                     0                     2                     178   \n",
       "\n",
       "    anginainduciejercic  depresegmenSTinduciejerci  pendientesegmeSTejer  \\\n",
       "0                     0                        0.1                     1   \n",
       "1                     0                        1.8                     0   \n",
       "2                     0                        2.6                     2   \n",
       "3                     0                        1.4                     1   \n",
       "4                     1                        1.8                     1   \n",
       "5                     0                        0.6                     1   \n",
       "6                     0                        2.3                     2   \n",
       "7                     0                        2.6                     1   \n",
       "8                     0                        0.9                     0   \n",
       "9                     0                        4.2                     2   \n",
       "10                    0                        0.2                     1   \n",
       "11                    0                        0.0                     0   \n",
       "12                    0                        0.8                     0   \n",
       "13                    0                        1.0                     0   \n",
       "14                    0                        1.9                     1   \n",
       "15                    0                        0.0                     1   \n",
       "16                    0                        1.2                     1   \n",
       "17                    1                        1.4                     0   \n",
       "18                    0                        1.2                     1   \n",
       "19                    0                        0.8                     0   \n",
       "\n",
       "    numvasosprinci  resultaanalitalasemia  condition  \n",
       "0                1                      0          0  \n",
       "1                2                      0          0  \n",
       "2                0                      0          0  \n",
       "3                1                      0          1  \n",
       "4                0                      0          0  \n",
       "5                0                      2          0  \n",
       "6                0                      1          0  \n",
       "7                2                      0          1  \n",
       "8                0                      0          0  \n",
       "9                0                      2          0  \n",
       "10               0                      2          1  \n",
       "11               0                      0          1  \n",
       "12               2                      0          1  \n",
       "13               0                      0          0  \n",
       "14               0                      2          0  \n",
       "15               0                      1          0  \n",
       "16               0                      2          0  \n",
       "17               1                      0          0  \n",
       "18               0                      2          1  \n",
       "19               2                      0          0  "
      ]
     },
     "execution_count": 3,
     "metadata": {},
     "output_type": "execute_result"
    }
   ],
   "source": [
    "Datos.head(20)"
   ]
  },
  {
   "cell_type": "code",
   "execution_count": 4,
   "id": "2a353250-8c3a-4c09-8e90-f0c93a517459",
   "metadata": {},
   "outputs": [
    {
     "data": {
      "text/html": [
       "<div>\n",
       "<style scoped>\n",
       "    .dataframe tbody tr th:only-of-type {\n",
       "        vertical-align: middle;\n",
       "    }\n",
       "\n",
       "    .dataframe tbody tr th {\n",
       "        vertical-align: top;\n",
       "    }\n",
       "\n",
       "    .dataframe thead th {\n",
       "        text-align: right;\n",
       "    }\n",
       "</style>\n",
       "<table border=\"1\" class=\"dataframe\">\n",
       "  <thead>\n",
       "    <tr style=\"text-align: right;\">\n",
       "      <th></th>\n",
       "      <th>edad</th>\n",
       "      <th>sexo</th>\n",
       "      <th>anginapech</th>\n",
       "      <th>presionartereposo</th>\n",
       "      <th>colesterolsangre</th>\n",
       "      <th>nivelazucsangreayuna</th>\n",
       "      <th>resultaelectroreposo</th>\n",
       "      <th>frecuecardiamaxalcanza</th>\n",
       "      <th>anginainduciejercic</th>\n",
       "      <th>depresegmenSTinduciejerci</th>\n",
       "      <th>pendientesegmeSTejer</th>\n",
       "      <th>numvasosprinci</th>\n",
       "      <th>resultaanalitalasemia</th>\n",
       "      <th>condition</th>\n",
       "    </tr>\n",
       "  </thead>\n",
       "  <tbody>\n",
       "    <tr>\n",
       "      <th>count</th>\n",
       "      <td>297.000000</td>\n",
       "      <td>297.000000</td>\n",
       "      <td>297.000000</td>\n",
       "      <td>297.000000</td>\n",
       "      <td>297.000000</td>\n",
       "      <td>297.000000</td>\n",
       "      <td>297.000000</td>\n",
       "      <td>297.000000</td>\n",
       "      <td>297.000000</td>\n",
       "      <td>297.000000</td>\n",
       "      <td>297.000000</td>\n",
       "      <td>297.000000</td>\n",
       "      <td>297.000000</td>\n",
       "      <td>297.000000</td>\n",
       "    </tr>\n",
       "    <tr>\n",
       "      <th>mean</th>\n",
       "      <td>54.542088</td>\n",
       "      <td>0.676768</td>\n",
       "      <td>2.158249</td>\n",
       "      <td>131.693603</td>\n",
       "      <td>247.350168</td>\n",
       "      <td>0.144781</td>\n",
       "      <td>0.996633</td>\n",
       "      <td>149.599327</td>\n",
       "      <td>0.326599</td>\n",
       "      <td>1.055556</td>\n",
       "      <td>0.602694</td>\n",
       "      <td>0.676768</td>\n",
       "      <td>0.835017</td>\n",
       "      <td>0.461279</td>\n",
       "    </tr>\n",
       "    <tr>\n",
       "      <th>std</th>\n",
       "      <td>9.049736</td>\n",
       "      <td>0.468500</td>\n",
       "      <td>0.964859</td>\n",
       "      <td>17.762806</td>\n",
       "      <td>51.997583</td>\n",
       "      <td>0.352474</td>\n",
       "      <td>0.994914</td>\n",
       "      <td>22.941562</td>\n",
       "      <td>0.469761</td>\n",
       "      <td>1.166123</td>\n",
       "      <td>0.618187</td>\n",
       "      <td>0.938965</td>\n",
       "      <td>0.956690</td>\n",
       "      <td>0.499340</td>\n",
       "    </tr>\n",
       "    <tr>\n",
       "      <th>min</th>\n",
       "      <td>29.000000</td>\n",
       "      <td>0.000000</td>\n",
       "      <td>0.000000</td>\n",
       "      <td>94.000000</td>\n",
       "      <td>126.000000</td>\n",
       "      <td>0.000000</td>\n",
       "      <td>0.000000</td>\n",
       "      <td>71.000000</td>\n",
       "      <td>0.000000</td>\n",
       "      <td>0.000000</td>\n",
       "      <td>0.000000</td>\n",
       "      <td>0.000000</td>\n",
       "      <td>0.000000</td>\n",
       "      <td>0.000000</td>\n",
       "    </tr>\n",
       "    <tr>\n",
       "      <th>25%</th>\n",
       "      <td>48.000000</td>\n",
       "      <td>0.000000</td>\n",
       "      <td>2.000000</td>\n",
       "      <td>120.000000</td>\n",
       "      <td>211.000000</td>\n",
       "      <td>0.000000</td>\n",
       "      <td>0.000000</td>\n",
       "      <td>133.000000</td>\n",
       "      <td>0.000000</td>\n",
       "      <td>0.000000</td>\n",
       "      <td>0.000000</td>\n",
       "      <td>0.000000</td>\n",
       "      <td>0.000000</td>\n",
       "      <td>0.000000</td>\n",
       "    </tr>\n",
       "    <tr>\n",
       "      <th>50%</th>\n",
       "      <td>56.000000</td>\n",
       "      <td>1.000000</td>\n",
       "      <td>2.000000</td>\n",
       "      <td>130.000000</td>\n",
       "      <td>243.000000</td>\n",
       "      <td>0.000000</td>\n",
       "      <td>1.000000</td>\n",
       "      <td>153.000000</td>\n",
       "      <td>0.000000</td>\n",
       "      <td>0.800000</td>\n",
       "      <td>1.000000</td>\n",
       "      <td>0.000000</td>\n",
       "      <td>0.000000</td>\n",
       "      <td>0.000000</td>\n",
       "    </tr>\n",
       "    <tr>\n",
       "      <th>75%</th>\n",
       "      <td>61.000000</td>\n",
       "      <td>1.000000</td>\n",
       "      <td>3.000000</td>\n",
       "      <td>140.000000</td>\n",
       "      <td>276.000000</td>\n",
       "      <td>0.000000</td>\n",
       "      <td>2.000000</td>\n",
       "      <td>166.000000</td>\n",
       "      <td>1.000000</td>\n",
       "      <td>1.600000</td>\n",
       "      <td>1.000000</td>\n",
       "      <td>1.000000</td>\n",
       "      <td>2.000000</td>\n",
       "      <td>1.000000</td>\n",
       "    </tr>\n",
       "    <tr>\n",
       "      <th>max</th>\n",
       "      <td>77.000000</td>\n",
       "      <td>1.000000</td>\n",
       "      <td>3.000000</td>\n",
       "      <td>200.000000</td>\n",
       "      <td>564.000000</td>\n",
       "      <td>1.000000</td>\n",
       "      <td>2.000000</td>\n",
       "      <td>202.000000</td>\n",
       "      <td>1.000000</td>\n",
       "      <td>6.200000</td>\n",
       "      <td>2.000000</td>\n",
       "      <td>3.000000</td>\n",
       "      <td>2.000000</td>\n",
       "      <td>1.000000</td>\n",
       "    </tr>\n",
       "  </tbody>\n",
       "</table>\n",
       "</div>"
      ],
      "text/plain": [
       "             edad        sexo  anginapech  presionartereposo  \\\n",
       "count  297.000000  297.000000  297.000000         297.000000   \n",
       "mean    54.542088    0.676768    2.158249         131.693603   \n",
       "std      9.049736    0.468500    0.964859          17.762806   \n",
       "min     29.000000    0.000000    0.000000          94.000000   \n",
       "25%     48.000000    0.000000    2.000000         120.000000   \n",
       "50%     56.000000    1.000000    2.000000         130.000000   \n",
       "75%     61.000000    1.000000    3.000000         140.000000   \n",
       "max     77.000000    1.000000    3.000000         200.000000   \n",
       "\n",
       "       colesterolsangre  nivelazucsangreayuna  resultaelectroreposo  \\\n",
       "count        297.000000            297.000000            297.000000   \n",
       "mean         247.350168              0.144781              0.996633   \n",
       "std           51.997583              0.352474              0.994914   \n",
       "min          126.000000              0.000000              0.000000   \n",
       "25%          211.000000              0.000000              0.000000   \n",
       "50%          243.000000              0.000000              1.000000   \n",
       "75%          276.000000              0.000000              2.000000   \n",
       "max          564.000000              1.000000              2.000000   \n",
       "\n",
       "       frecuecardiamaxalcanza  anginainduciejercic  depresegmenSTinduciejerci  \\\n",
       "count              297.000000           297.000000                 297.000000   \n",
       "mean               149.599327             0.326599                   1.055556   \n",
       "std                 22.941562             0.469761                   1.166123   \n",
       "min                 71.000000             0.000000                   0.000000   \n",
       "25%                133.000000             0.000000                   0.000000   \n",
       "50%                153.000000             0.000000                   0.800000   \n",
       "75%                166.000000             1.000000                   1.600000   \n",
       "max                202.000000             1.000000                   6.200000   \n",
       "\n",
       "       pendientesegmeSTejer  numvasosprinci  resultaanalitalasemia   condition  \n",
       "count            297.000000      297.000000             297.000000  297.000000  \n",
       "mean               0.602694        0.676768               0.835017    0.461279  \n",
       "std                0.618187        0.938965               0.956690    0.499340  \n",
       "min                0.000000        0.000000               0.000000    0.000000  \n",
       "25%                0.000000        0.000000               0.000000    0.000000  \n",
       "50%                1.000000        0.000000               0.000000    0.000000  \n",
       "75%                1.000000        1.000000               2.000000    1.000000  \n",
       "max                2.000000        3.000000               2.000000    1.000000  "
      ]
     },
     "execution_count": 4,
     "metadata": {},
     "output_type": "execute_result"
    }
   ],
   "source": [
    "Datos.describe()"
   ]
  },
  {
   "cell_type": "code",
   "execution_count": 5,
   "id": "3ad5a49b-6f7f-47fc-8e51-394193069e55",
   "metadata": {},
   "outputs": [
    {
     "name": "stdout",
     "output_type": "stream",
     "text": [
      "Cantidad de registros con cero en presion arterial reposo:  0\n",
      "Cantidad de resgistro con cero en colesterol en sangre:  0\n",
      "Cantidad de registros con cero en frecuencia max alcanzada:  0\n"
     ]
    }
   ],
   "source": [
    "print (\"Cantidad de registros con cero en presion arterial reposo: \",Datos['presionartereposo'].isin([0]).sum())\n",
    "print (\"Cantidad de resgistro con cero en colesterol en sangre: \",Datos['colesterolsangre'].isin([0]).sum())\n",
    "print (\"Cantidad de registros con cero en frecuencia max alcanzada: \",Datos['frecuecardiamaxalcanza'].isin([0]).sum())"
   ]
  },
  {
   "cell_type": "code",
   "execution_count": null,
   "id": "04fd7f37-4b67-4658-9e1c-5d4c17cadde9",
   "metadata": {},
   "outputs": [],
   "source": [
    "#se realiza validacion para encontrar valores en 0 solo con estas variables, ya que las demás corresponden a valores nominales"
   ]
  },
  {
   "cell_type": "code",
   "execution_count": 6,
   "id": "628381ee-d25b-4bb2-8e18-d0c7c04d7f2c",
   "metadata": {},
   "outputs": [
    {
     "data": {
      "text/plain": [
       "Text(0.5, 1.0, 'Identificación de Valores Atípicos')"
      ]
     },
     "execution_count": 6,
     "metadata": {},
     "output_type": "execute_result"
    },
    {
     "data": {
      "image/png": "[encoded data removed]",
      "text/plain": [
       "<Figure size 600x300 with 1 Axes>"
      ]
     },
     "metadata": {},
     "output_type": "display_data"
    }
   ],
   "source": [
    "plt.figure(figsize=(6, 3))\n",
    "sns.boxplot(x=Datos['presionartereposo'])\n",
    "plt.title('Identificación de Valores Atípicos', fontsize=9 )"
   ]
  },
  {
   "cell_type": "code",
   "execution_count": 7,
   "id": "104a1553-4ad0-44a9-9f53-6285a6661915",
   "metadata": {},
   "outputs": [
    {
     "data": {
      "text/plain": [
       "Text(0.5, 1.0, 'Identificación de Valores Atípicos')"
      ]
     },
     "execution_count": 7,
     "metadata": {},
     "output_type": "execute_result"
    },
    {
     "data": {
      "image/png": "[encoded data removed]",
      "text/plain": [
       "<Figure size 600x300 with 1 Axes>"
      ]
     },
     "metadata": {},
     "output_type": "display_data"
    }
   ],
   "source": [
    "plt.figure(figsize=(6, 3))\n",
    "sns.boxplot(x=Datos['colesterolsangre'])\n",
    "plt.title('Identificación de Valores Atípicos', fontsize=9 )"
   ]
  },
  {
   "cell_type": "code",
   "execution_count": 8,
   "id": "5839cefb-8796-4b1b-937f-6adcb554acd2",
   "metadata": {},
   "outputs": [
    {
     "data": {
      "text/plain": [
       "Text(0.5, 1.0, 'Identificación de Valores Atípicos')"
      ]
     },
     "execution_count": 8,
     "metadata": {},
     "output_type": "execute_result"
    },
    {
     "data": {
      "image/png": "[encoded data removed]",
      "text/plain": [
       "<Figure size 600x300 with 1 Axes>"
      ]
     },
     "metadata": {},
     "output_type": "display_data"
    }
   ],
   "source": [
    "plt.figure(figsize=(6, 3))\n",
    "sns.boxplot(x=Datos['frecuecardiamaxalcanza'])\n",
    "plt.title('Identificación de Valores Atípicos', fontsize=9 )"
   ]
  },
  {
   "cell_type": "code",
   "execution_count": null,
   "id": "4898301b-c2c7-4eef-aa99-fc7c04063d15",
   "metadata": {},
   "outputs": [],
   "source": [
    "#eliminación de valores atípicos "
   ]
  },
  {
   "cell_type": "code",
   "execution_count": 9,
   "id": "0a349e65-b9de-426f-ad68-351e25de9b32",
   "metadata": {},
   "outputs": [
    {
     "name": "stdout",
     "output_type": "stream",
     "text": [
      "El total de datos atípicos es 7\n"
     ]
    }
   ],
   "source": [
    "nivel_minimo=40\n",
    "nivel_maximo=175\n",
    "Total_Atipicos=((Datos['presionartereposo']<nivel_minimo)|(Datos['presionartereposo']>nivel_maximo)).sum()\n",
    "print (\"El total de datos atípicos es {}\". format(Total_Atipicos))"
   ]
  },
  {
   "cell_type": "code",
   "execution_count": 10,
   "id": "7832384d-c98b-4e36-9394-04265b165cf9",
   "metadata": {},
   "outputs": [],
   "source": [
    "Datos=Datos[(Datos['presionartereposo']<nivel_maximo)&(Datos['presionartereposo']>nivel_minimo)]"
   ]
  },
  {
   "cell_type": "code",
   "execution_count": 11,
   "id": "00c9f3ef-f258-4cb1-ad59-6f7277b90bc8",
   "metadata": {},
   "outputs": [
    {
     "name": "stdout",
     "output_type": "stream",
     "text": [
      "El total de datos atípicos es 0\n"
     ]
    }
   ],
   "source": [
    "Total_Atipicos=((Datos['presionartereposo']<nivel_minimo)|(Datos['presionartereposo']>nivel_maximo)).sum()\n",
    "print(\"El total de datos atípicos es {}\".format(Total_Atipicos))"
   ]
  },
  {
   "cell_type": "code",
   "execution_count": 12,
   "id": "360754d5-919d-421e-91cc-78902b454897",
   "metadata": {},
   "outputs": [
    {
     "name": "stdout",
     "output_type": "stream",
     "text": [
      "El total de datos atípicos es 5\n"
     ]
    }
   ],
   "source": [
    "nivel_minimo=40\n",
    "nivel_maximo=370\n",
    "Total_Atipicos=((Datos['colesterolsangre']<nivel_minimo)|(Datos['colesterolsangre']>nivel_maximo)).sum()\n",
    "print (\"El total de datos atípicos es {}\". format(Total_Atipicos))"
   ]
  },
  {
   "cell_type": "code",
   "execution_count": 13,
   "id": "8477dd4a-2a9b-4018-87c9-de059d772145",
   "metadata": {},
   "outputs": [],
   "source": [
    "Datos=Datos[(Datos['colesterolsangre']<nivel_maximo)&(Datos['colesterolsangre']>nivel_minimo)]"
   ]
  },
  {
   "cell_type": "code",
   "execution_count": 14,
   "id": "8c6fb7c8-ba19-452e-a156-9d48fddd8e13",
   "metadata": {},
   "outputs": [
    {
     "name": "stdout",
     "output_type": "stream",
     "text": [
      "El total de datos atípicos es 0\n"
     ]
    }
   ],
   "source": [
    "Total_Atipicos=((Datos['colesterolsangre']<nivel_minimo)|(Datos['colesterolsangre']>nivel_maximo)).sum()\n",
    "print(\"El total de datos atípicos es {}\".format(Total_Atipicos))"
   ]
  },
  {
   "cell_type": "code",
   "execution_count": 15,
   "id": "4ae49ac8-9fc2-43bf-9e1a-05522cf0412d",
   "metadata": {},
   "outputs": [
    {
     "name": "stdout",
     "output_type": "stream",
     "text": [
      "El total de datos atípicos es 1\n"
     ]
    }
   ],
   "source": [
    "nivel_minimo=80\n",
    "nivel_maximo=300\n",
    "Total_Atipicos=((Datos['frecuecardiamaxalcanza']<nivel_minimo)|(Datos['frecuecardiamaxalcanza']>nivel_maximo)).sum()\n",
    "print (\"El total de datos atípicos es {}\". format(Total_Atipicos))"
   ]
  },
  {
   "cell_type": "code",
   "execution_count": 16,
   "id": "17336b8c-ba71-41d0-8b84-caa1a0f6a809",
   "metadata": {},
   "outputs": [],
   "source": [
    "Datos=Datos[(Datos['frecuecardiamaxalcanza']<nivel_maximo)&(Datos['frecuecardiamaxalcanza']>nivel_minimo)]"
   ]
  },
  {
   "cell_type": "code",
   "execution_count": 17,
   "id": "1c6613f0-c9af-4d4f-84d3-782d3de018f2",
   "metadata": {},
   "outputs": [
    {
     "name": "stdout",
     "output_type": "stream",
     "text": [
      "El total de datos atípicos es 0\n"
     ]
    }
   ],
   "source": [
    "Total_Atipicos=((Datos['frecuecardiamaxalcanza']<nivel_minimo)|(Datos['frecuecardiamaxalcanza']>nivel_maximo)).sum()\n",
    "print(\"El total de datos atípicos es {}\".format(Total_Atipicos))"
   ]
  },
  {
   "cell_type": "code",
   "execution_count": 18,
   "id": "00f2055b-83a1-46d6-bf10-7dab86df8ac6",
   "metadata": {},
   "outputs": [
    {
     "name": "stdout",
     "output_type": "stream",
     "text": [
      "<class 'pandas.core.frame.DataFrame'>\n",
      "Index: 284 entries, 0 to 296\n",
      "Data columns (total 14 columns):\n",
      " #   Column                     Non-Null Count  Dtype  \n",
      "---  ------                     --------------  -----  \n",
      " 0   edad                       284 non-null    int64  \n",
      " 1   sexo                       284 non-null    int64  \n",
      " 2   anginapech                 284 non-null    int64  \n",
      " 3   presionartereposo          284 non-null    int64  \n",
      " 4   colesterolsangre           284 non-null    int64  \n",
      " 5   nivelazucsangreayuna       284 non-null    int64  \n",
      " 6   resultaelectroreposo       284 non-null    int64  \n",
      " 7   frecuecardiamaxalcanza     284 non-null    int64  \n",
      " 8   anginainduciejercic        284 non-null    int64  \n",
      " 9   depresegmenSTinduciejerci  284 non-null    float64\n",
      " 10  pendientesegmeSTejer       284 non-null    int64  \n",
      " 11  numvasosprinci             284 non-null    int64  \n",
      " 12  resultaanalitalasemia      284 non-null    int64  \n",
      " 13  condition                  284 non-null    int64  \n",
      "dtypes: float64(1), int64(13)\n",
      "memory usage: 33.3 KB\n"
     ]
    }
   ],
   "source": [
    "Datos.info()"
   ]
  },
  {
   "cell_type": "code",
   "execution_count": null,
   "id": "ba0921c1-707c-4b52-adf7-18cae6f40c27",
   "metadata": {},
   "outputs": [],
   "source": [
    "#Característica de interés\n",
    "#condition: hace referencia a que el paciente o persona padece o no enfermedad cardíaca (0=no padece enferm.cardíaca) (1=padece enferm.cardiaca)"
   ]
  },
  {
   "cell_type": "code",
   "execution_count": 19,
   "id": "a6901100-abc3-47f8-a4f1-96e38f4732d8",
   "metadata": {},
   "outputs": [
    {
     "data": {
      "text/plain": [
       "condition\n",
       "0    155\n",
       "1    129\n",
       "Name: count, dtype: int64"
      ]
     },
     "execution_count": 19,
     "metadata": {},
     "output_type": "execute_result"
    }
   ],
   "source": [
    "Datos['condition'].value_counts()\n"
   ]
  },
  {
   "cell_type": "code",
   "execution_count": null,
   "id": "19e69459-0a25-4677-a5b4-e125e49ec17e",
   "metadata": {},
   "outputs": [],
   "source": [
    "#Análisis del datased después de haber realizado la limpieza e imputación "
   ]
  },
  {
   "cell_type": "code",
   "execution_count": 20,
   "id": "e8442b61-d3c8-42c8-af79-9f7c300ea4ae",
   "metadata": {},
   "outputs": [
    {
     "data": {
      "text/plain": [
       "sexo\n",
       "0     87\n",
       "1    197\n",
       "Name: condition, dtype: int64"
      ]
     },
     "execution_count": 20,
     "metadata": {},
     "output_type": "execute_result"
    }
   ],
   "source": [
    "Datos.groupby(['sexo']).count()['condition']"
   ]
  },
  {
   "cell_type": "code",
   "execution_count": 21,
   "id": "1999b3e0-6a1f-4286-a4f1-3c3ddd7ae123",
   "metadata": {},
   "outputs": [
    {
     "data": {
      "text/plain": [
       "(array([ 87.,   0.,   0.,   0.,   0.,   0.,   0.,   0.,   0., 197.]),\n",
       " array([0. , 0.1, 0.2, 0.3, 0.4, 0.5, 0.6, 0.7, 0.8, 0.9, 1. ]),\n",
       " <BarContainer object of 10 artists>)"
      ]
     },
     "execution_count": 21,
     "metadata": {},
     "output_type": "execute_result"
    },
    {
     "data": {
      "image/png": "[encoded data removed]",
      "text/plain": [
       "<Figure size 640x480 with 1 Axes>"
      ]
     },
     "metadata": {},
     "output_type": "display_data"
    }
   ],
   "source": [
    "plt.hist(Datos.sexo)"
   ]
  },
  {
   "cell_type": "markdown",
   "id": "81b3cb51-82a2-4a8f-9091-f1e760c7ab6f",
   "metadata": {},
   "source": [
    "**Análisis del histograma** \n",
    "\n",
    "\n",
    "En el gráfico anterior se puede verificar los valores para la variable sexo de tipo nominal, en donde 0 representa el sexo femenino con un total de\n",
    "87 datos y 1 representa al sexo masculino, con un total de 197 datos, lo que implica que más del 50% de las personas son de sexo masculino\n",
    "\n",
    "sexo femenino=87 (30.633% del total del dataset) \n",
    "sexo masculino=197  (69.366% del total del dataset) "
   ]
  },
  {
   "cell_type": "code",
   "execution_count": 22,
   "id": "00156444-808a-41f6-a0f8-c494823a77e9",
   "metadata": {},
   "outputs": [],
   "source": [
    "Mujer = Datos[Datos['sexo'] == 0]\n",
    "Hombre = Datos[Datos['sexo'] == 1]\n"
   ]
  },
  {
   "cell_type": "code",
   "execution_count": 23,
   "id": "ef8ef1e3-4fcc-49db-b489-70dd83a01267",
   "metadata": {},
   "outputs": [],
   "source": [
    "count_Mujer = Mujer.groupby('condition').size()\n",
    "count_Hombre = Hombre.groupby('condition').size()"
   ]
  },
  {
   "cell_type": "code",
   "execution_count": 24,
   "id": "16cec019-1b91-41f2-8918-b9a42fd6faa4",
   "metadata": {},
   "outputs": [
    {
     "name": "stdout",
     "output_type": "stream",
     "text": [
      "Para sexo Mujer:\n",
      "condition\n",
      "0    67\n",
      "1    20\n",
      "dtype: int64\n",
      "\n",
      "Para sexo hombre:\n",
      "condition\n",
      "0     88\n",
      "1    109\n",
      "dtype: int64\n"
     ]
    }
   ],
   "source": [
    "print(\"Para sexo Mujer:\")\n",
    "print(count_Mujer)\n",
    "\n",
    "print(\"\\nPara sexo hombre:\")\n",
    "print(count_Hombre)"
   ]
  },
  {
   "cell_type": "code",
   "execution_count": 27,
   "id": "662ea440-592b-488e-9139-7e962647379a",
   "metadata": {},
   "outputs": [],
   "source": [
    "df = pd.DataFrame({'Mujer': count_Mujer, 'Hombre': count_Hombre})"
   ]
  },
  {
   "cell_type": "code",
   "execution_count": 34,
   "id": "e7a09773-0371-40d2-96d8-95738f21a497",
   "metadata": {},
   "outputs": [
    {
     "data": {
      "image/png": "[encoded data removed]",
      "text/plain": [
       "<Figure size 640x480 with 1 Axes>"
      ]
     },
     "metadata": {},
     "output_type": "display_data"
    }
   ],
   "source": [
    "df.plot(kind='bar', stacked=True)\n",
    "plt.xlabel('Condición')\n",
    "plt.ylabel('Cantidad')\n",
    "plt.title('Cantidad de personas por condición y sexo')\n",
    "plt.xticks(rotation=0)  \n",
    "plt.legend(title='Sexo')\n",
    "plt.show()"
   ]
  },
  {
   "cell_type": "markdown",
   "id": "99fe5a53-03c0-43fb-a8c0-541ed20db93b",
   "metadata": {},
   "source": [
    "**Análisis de la gráfica**\n",
    "\n",
    "De acuerdo a los datos obtenidos se tiene que:\n",
    "\n",
    "mujeres \n",
    "67 no padecen enfermedad cardiaca \n",
    "20 si padecen enfermedad cardiaca \n",
    "\n",
    "hombres \n",
    "88  no padecen enfermedad cardiaca\n",
    "109 si padecen enfermedad cardiaca \n",
    "\n",
    "En la gráfica se puede ver la cantidad total para cada variable, realizando la suma \n",
    "se puede deducir entonces que la relación por sexo en cuanto a presencia de enfermedad cardiaca es de 7.04% para las mujeres contra el 38.38% para los hombres, si bien uno de los aspectos que puede influir en el resultado es la cantidad de datos registrados en el dataset, ya que en su mayoria pertenecen al género masculino, así como se ve una relación significativa en cuanto a edad, nivel de colesterol en sangre, entre otros.\n",
    "\n",
    "En total 155 personas no padecen enfermedad cardica y 129 si padecen enfermedad cardiaca."
   ]
  },
  {
   "cell_type": "code",
   "execution_count": 37,
   "id": "425d6f7e-55a8-40a4-ba7b-9a27d747af9e",
   "metadata": {},
   "outputs": [],
   "source": [
    "X = Datos.drop('condition',axis=1)\n",
    "Y = Datos['condition']\n",
    "X_train, X_test, Y_train, Y_test = train_test_split(X, Y, test_size=0.25, stratify=Y, random_state= 0)"
   ]
  },
  {
   "cell_type": "code",
   "execution_count": 38,
   "id": "9fcf91f2-5d5e-4e0f-a363-4dedcce67a98",
   "metadata": {},
   "outputs": [
    {
     "name": "stdout",
     "output_type": "stream",
     "text": [
      "     edad  sexo  anginapech  presionartereposo  colesterolsangre  \\\n",
      "234    56     0           3                200               288   \n",
      "82     66     0           2                146               278   \n",
      "36     56     1           1                120               240   \n",
      "237    56     1           3                132               184   \n",
      "133    47     1           2                108               243   \n",
      "..    ...   ...         ...                ...               ...   \n",
      "291    40     1           3                110               167   \n",
      "195    61     0           3                130               330   \n",
      "170    65     0           3                150               225   \n",
      "135    46     0           2                142               177   \n",
      "293    39     1           3                118               219   \n",
      "\n",
      "     nivelazucsangreayuna  resultaelectroreposo  frecuecardiamaxalcanza  \\\n",
      "234                     1                     2                     133   \n",
      "82                      0                     2                     152   \n",
      "36                      0                     0                     169   \n",
      "237                     0                     2                     105   \n",
      "133                     0                     0                     152   \n",
      "..                    ...                   ...                     ...   \n",
      "291                     0                     2                     114   \n",
      "195                     0                     2                     169   \n",
      "170                     0                     2                     114   \n",
      "135                     0                     2                     160   \n",
      "293                     0                     0                     140   \n",
      "\n",
      "     anginainduciejercic  depresegmenSTinduciejerci  pendientesegmeSTejer  \\\n",
      "234                    1                        4.0                     2   \n",
      "82                     0                        0.0                     1   \n",
      "36                     0                        0.0                     2   \n",
      "237                    1                        2.1                     1   \n",
      "133                    0                        0.0                     0   \n",
      "..                   ...                        ...                   ...   \n",
      "291                    1                        2.0                     1   \n",
      "195                    0                        0.0                     0   \n",
      "170                    0                        1.0                     1   \n",
      "135                    1                        1.4                     2   \n",
      "293                    0                        1.2                     1   \n",
      "\n",
      "     numvasosprinci  resultaanalitalasemia  \n",
      "234               2                      2  \n",
      "82                1                      0  \n",
      "36                0                      0  \n",
      "237               1                      1  \n",
      "133               0                      0  \n",
      "..              ...                    ...  \n",
      "291               0                      2  \n",
      "195               0                      0  \n",
      "170               3                      2  \n",
      "135               0                      0  \n",
      "293               0                      2  \n",
      "\n",
      "[222 rows x 13 columns]\n"
     ]
    }
   ],
   "source": [
    "print (X_train)"
   ]
  },
  {
   "cell_type": "code",
   "execution_count": 39,
   "id": "c7865110-7c9e-4446-af99-0032298aaf43",
   "metadata": {},
   "outputs": [
    {
     "name": "stdout",
     "output_type": "stream",
     "text": [
      "234    1\n",
      "82     0\n",
      "36     0\n",
      "237    1\n",
      "133    1\n",
      "      ..\n",
      "291    1\n",
      "195    1\n",
      "170    1\n",
      "135    0\n",
      "293    1\n",
      "Name: condition, Length: 222, dtype: int64\n"
     ]
    }
   ],
   "source": [
    "print (Y_train)"
   ]
  },
  {
   "cell_type": "code",
   "execution_count": 40,
   "id": "ca37f32f-a18c-4562-bb98-2439dd5511aa",
   "metadata": {},
   "outputs": [],
   "source": [
    "modelo_regresion = LogisticRegression(solver = \"liblinear\") \n",
    "modelo_regresion.fit (X_train , Y_train)   \n",
    "\n",
    "# Crea el modelo de prediccion\n",
    "Prediccion = modelo_regresion.predict(X_test)"
   ]
  },
  {
   "cell_type": "code",
   "execution_count": 41,
   "id": "6a756703-b46a-41c9-b906-de1d58fab8b8",
   "metadata": {},
   "outputs": [
    {
     "name": "stdout",
     "output_type": "stream",
     "text": [
      "185    1\n",
      "157    1\n",
      "110    0\n",
      "39     0\n",
      "198    1\n",
      "      ..\n",
      "278    0\n",
      "163    1\n",
      "137    0\n",
      "33     1\n",
      "246    1\n",
      "Name: condition, Length: 75, dtype: int64\n"
     ]
    }
   ],
   "source": [
    "print (Y_test)"
   ]
  },
  {
   "cell_type": "code",
   "execution_count": 42,
   "id": "8716bd94-0409-4237-842a-c4cf00fa5dd8",
   "metadata": {},
   "outputs": [
    {
     "name": "stdout",
     "output_type": "stream",
     "text": [
      "[1 1 0 0 1 0 1 0 0 1 0 1 1 1 1 1 0 0 0 1 0 1 1 1 0 0 0 0 0 1 0 1 1 0 0 0 0\n",
      " 0 1 0 0 0 1 1 1 1 1 0 1 1 0 1 0 0 0 0 0 1 1 1 1 0 0 0 1 0 0 1 0 0 0 1 0 0\n",
      " 1]\n"
     ]
    }
   ],
   "source": [
    "print (Prediccion)\n"
   ]
  },
  {
   "cell_type": "code",
   "execution_count": 43,
   "id": "35287b81-f2ae-4922-96ca-f8217679586d",
   "metadata": {},
   "outputs": [
    {
     "name": "stdout",
     "output_type": "stream",
     "text": [
      "              precision    recall  f1-score   support\n",
      "\n",
      "           0       0.88      0.90      0.89        40\n",
      "           1       0.88      0.86      0.87        35\n",
      "\n",
      "    accuracy                           0.88        75\n",
      "   macro avg       0.88      0.88      0.88        75\n",
      "weighted avg       0.88      0.88      0.88        75\n",
      "\n"
     ]
    }
   ],
   "source": [
    "# Desempeño del modelo de regresión\n",
    "print(classification_report(Y_test,Prediccion))\n"
   ]
  },
  {
   "cell_type": "code",
   "execution_count": 44,
   "id": "dbad588c-d16c-40d7-b8bc-e7cc6f2a6724",
   "metadata": {},
   "outputs": [
    {
     "data": {
      "text/plain": [
       "<sklearn.metrics._plot.confusion_matrix.ConfusionMatrixDisplay at 0x2cf22ff4350>"
      ]
     },
     "execution_count": 44,
     "metadata": {},
     "output_type": "execute_result"
    },
    {
     "data": {
      "image/png": "[encoded data removed]",
      "text/plain": [
       "<Figure size 640x480 with 2 Axes>"
      ]
     },
     "metadata": {},
     "output_type": "display_data"
    }
   ],
   "source": [
    "#Matrix de Confusión del modelo\n",
    "\n",
    "cm=confusion_matrix(Y_test,Prediccion)\n",
    "disp=metrics.ConfusionMatrixDisplay(confusion_matrix=cm)\n",
    "disp.plot()"
   ]
  },
  {
   "cell_type": "code",
   "execution_count": 45,
   "id": "2ff5b4cc-0a02-4f74-bbc7-8dcd27027329",
   "metadata": {},
   "outputs": [
    {
     "data": {
      "image/png": "[encoded data removed]",
      "text/plain": [
       "<Figure size 640x480 with 1 Axes>"
      ]
     },
     "metadata": {},
     "output_type": "display_data"
    }
   ],
   "source": [
    "# Curva de precisón del modelo\n",
    "\n",
    "from sklearn.metrics import RocCurveDisplay\n",
    "RocCurveDisplay.from_predictions(Y_test, Prediccion)\n",
    "plt.show()"
   ]
  },
  {
   "cell_type": "code",
   "execution_count": null,
   "id": "afe45449-7389-4987-b51a-6b15e34fdddc",
   "metadata": {},
   "outputs": [],
   "source": [
    " precision    recall  f1-score   support\n",
    "\n",
    "           0       0.88      0.90      0.89        40\n",
    "           1       0.88      0.86      0.87        35\n",
    "\n",
    "    accuracy                           0.88        75\n",
    "   macro avg       0.88      0.88      0.88        75\n",
    "weighted avg       0.88      0.88      0.88        75\n",
    "\n"
   ]
  },
  {
   "cell_type": "markdown",
   "id": "f777c4a2-059e-4b98-b038-9b6c21d27ac6",
   "metadata": {},
   "source": [
    "\n",
    "\n",
    "**Rendimiento del modelo en términos de precisión**\n",
    "\n",
    "\n",
    "\n",
    "**Precisión:**\n",
    "\n",
    "Para la clase 0, la precisión es del 88%. Esto significa que del total de instancias clasificadas como clase 0 por el modelo, el 88% realmente pertenecen a la clase 0.\n",
    "\n",
    "Para la clase 1, la precisión también es del 88%. Esto significa que del total de instancias clasificadas como clase 1 por el modelo, el 88% realmente pertenecen a la clase 1\n",
    "\n",
    "\n",
    "\n",
    "**Recall (Recuperación o Sensibilidad)**\n",
    "\n",
    "Para la clase 0, el recall es del 90%. Esto significa que el 90% de todas las instancias que realmente son de la clase 0 fueron correctamente clasificadas como clase 0 por el modelo. \n",
    "Para la clase 1, el recall es del 86%. Esto significa que el 86% de todas las instancias que realmente son de la clase 1 fueron correctamente clasificadas como clase 1 por el modelo\n",
    "\n",
    "\n",
    "\n",
    "**F1-score:** El F1-score es una métrica que combina precision y recall en una sola medida. Es útil cuando hay un desequilibrio entre las clases. Para este caso para la clase 0, el F1-score es del 89%, y para la clase 1, es del 87%\n",
    "\n",
    "\n",
    "\n",
    "**Support (Soporte):** \n",
    "\n",
    "El soporte se refiere al número de ocurrencias reales de cada clase en el conjunto de datos de prueba.\n",
    "Hay 40 casos de la clase 0 y 35 casos de la clase 1 en el conjunto de datos \n",
    "\n",
    "\n",
    "\n",
    "**De la Matriz de Confusión se puede interpretar:**\n",
    "\n",
    "Verdaderos negativos: el recuento de observaciones que un clasificador predijo correctame  como falso 36\n",
    "\n",
    "Verdaderos positivos: el recuento de observaciones que un clasificador predijo correctamente como Verdadero 30\n",
    "\n",
    "Falsos positivos: el recuento de observaciones que un clasificador predijo incorrectamente como Verdaderas 4\n",
    "\n",
    "Falsos negativos: el recuento de observaciones que un clasificador predijo incorrectamo como falso 5\n",
    "\n",
    "\n",
    "\n",
    "**De la curva de precisión del  modelo podemos interpretar:**\n",
    "\n",
    "El AUC es 0,88 lo que significa que el 88 % de las predicciones del clasificador son correctas en todos los umbrales de clasificación."
   ]
  },
  {
   "cell_type": "code",
   "execution_count": null,
   "id": "775508b9-80d2-4d0a-a24b-1eba54fa9d4e",
   "metadata": {},
   "outputs": [],
   "source": []
  }
 ],
 "metadata": {
  "kernelspec": {
   "display_name": "Python 3 (ipykernel)",
   "language": "python",
   "name": "python3"
  },
  "language_info": {
   "codemirror_mode": {
    "name": "ipython",
    "version": 3
   },
   "file_extension": ".py",
   "mimetype": "text/x-python",
   "name": "python",
   "nbconvert_exporter": "python",
   "pygments_lexer": "ipython3",
   "version": "3.11.7"
  }
 },
 "nbformat": 4,
 "nbformat_minor": 5
}
